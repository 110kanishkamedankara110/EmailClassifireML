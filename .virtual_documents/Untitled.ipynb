import math
import numpy as np
import pandas as pd
from sklearn.naive_bayes import GaussianNB
from sklearn.model_selection import train_test_split
from sklearn.feature_extraction.text import TfidfVectorizer
from sklearn.linear_model import LogisticRegression
from sklearn.naive_bayes import MultinomialNB



df=pd.read_excel('spam.xlsx')


df.drop(['Unnamed: 2','Unnamed: 3','Unnamed: 4'],axis='columns',inplace=True)


iv=df.drop(['v1'],axis='columns')


dv=df.drop(['v2'],axis='columns')


dv=pd.get_dummies(dv.v1,dtype=int)


dv.drop(['ham'],axis='columns',inplace=True)


iv.head()


dv.head()


iv.columns[iv.isna().any()]


dv.columns[dv.isna().any()]


df['v2'] = df['v2'].astype(str)

tfidf = TfidfVectorizer(stop_words='english', max_features=3000)
iv_tfidf = tfidf.fit_transform(df['v2']) 



X_train, X_test, y_train, y_test = train_test_split(iv_tfidf, dv, test_size=0.2, random_state=42)


model=MultinomialNB()


y_train = y_train.values.ravel()
y_test = y_test.values.ravel()


model.fit(X_train,y_train)


model.score(X_test,y_test)


model.predict(X_test[0:10])


y_test[0:10]


new_email = input("Enter Email: ")


new_email_tfidf = tfidf.transform([new_email]) 

# Predict the class (spam or not spam)
prediction = model.predict(new_email_tfidf)

# Interpret the prediction
if prediction[0] == 1:
    print("The email is spam.")
else:
    print("The email is not spam.")





